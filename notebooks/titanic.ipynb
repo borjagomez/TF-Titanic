{
 "cells": [
  {
   "cell_type": "markdown",
   "metadata": {},
   "source": [
    "Tensor flow development"
   ]
  },
  {
   "cell_type": "code",
   "execution_count": 238,
   "metadata": {},
   "outputs": [],
   "source": [
    "# mlp for binary classification\n",
    "from pandas import read_csv\n",
    "from sklearn.model_selection import train_test_split\n",
    "from sklearn.preprocessing import LabelEncoder\n",
    "from tensorflow.keras import Sequential\n",
    "from tensorflow.keras.layers import Dense\n"
   ]
  },
  {
   "cell_type": "code",
   "execution_count": 260,
   "metadata": {},
   "outputs": [],
   "source": [
    "# Download dataset\n",
    "TITANIC_TRAIN = \"/data/train.csv\"\n",
    "\n",
    "names = [\"PassengerId\", \"Survived\", \"Pclass\", \"Name\", \"Sex\", \"Age\", \"SibSp\", \"Parch\", \"Ticket\", \"Fare\", \"Cabin\", \"Embarked\"]\n",
    "data = pd.read_csv(TITANIC_TRAIN, names=names, skiprows=1)\n",
    "\n",
    "# Train and test input data\n",
    "data = data.drop([\"Name\",\"PassengerId\",\"Cabin\",\"Ticket\"], axis=1)\n",
    "data['Sex'] = pd.factorize(data.Sex)[0]\n",
    "data['Embarked'] = pd.factorize(data.Embarked)[0]\n",
    "\n",
    "# We have NaN values in Age. We substitute them by the average\n",
    "data[\"Age\"] = data.Age.fillna(data.Age.mean())\n",
    "\n",
    "X = data.drop(\"Survived\", axis=1)\n",
    "\n",
    "y = data[\"Survived\"]\n",
    "\n",
    "scaler = MinMaxScaler()\n",
    "X = pd.DataFrame(scaler.fit_transform(X), columns=X.columns)"
   ]
  },
  {
   "cell_type": "code",
   "execution_count": 261,
   "metadata": {},
   "outputs": [
    {
     "name": "stdout",
     "output_type": "stream",
     "text": [
      "     Pclass  Sex       Age  SibSp     Parch      Fare  Embarked\n",
      "0       1.0  0.0  0.271174  0.125  0.000000  0.014151  0.333333\n",
      "1       0.0  1.0  0.472229  0.125  0.000000  0.139136  0.666667\n",
      "2       1.0  1.0  0.321438  0.000  0.000000  0.015469  0.333333\n",
      "3       0.0  1.0  0.434531  0.125  0.000000  0.103644  0.333333\n",
      "4       1.0  0.0  0.434531  0.000  0.000000  0.015713  0.333333\n",
      "..      ...  ...       ...    ...       ...       ...       ...\n",
      "886     0.5  0.0  0.334004  0.000  0.000000  0.025374  0.333333\n",
      "887     0.0  1.0  0.233476  0.000  0.000000  0.058556  0.333333\n",
      "888     1.0  1.0  0.367921  0.125  0.333333  0.045771  0.333333\n",
      "889     0.0  0.0  0.321438  0.000  0.000000  0.058556  0.666667\n",
      "890     1.0  0.0  0.396833  0.000  0.000000  0.015127  1.000000\n",
      "\n",
      "[891 rows x 7 columns]\n",
      "0      0\n",
      "1      1\n",
      "2      1\n",
      "3      1\n",
      "4      0\n",
      "      ..\n",
      "886    0\n",
      "887    1\n",
      "888    0\n",
      "889    1\n",
      "890    0\n",
      "Name: Survived, Length: 891, dtype: int64\n"
     ]
    }
   ],
   "source": [
    "print(X)\n",
    "print(y)"
   ]
  },
  {
   "cell_type": "code",
   "execution_count": 262,
   "metadata": {},
   "outputs": [
    {
     "name": "stdout",
     "output_type": "stream",
     "text": [
      "(596, 7) (295, 7) (596,) (295,)\n",
      "Test Accuracy: 0.827\n"
     ]
    }
   ],
   "source": [
    "X_train, X_test, y_train, y_test = train_test_split(X, y, test_size=0.33)\n",
    "print(X_train.shape, X_test.shape, y_train.shape, y_test.shape)\n",
    "\n",
    "# determine the number of input features\n",
    "n_features = X_train.shape[1]\n",
    "\n",
    "# define model\n",
    "model = Sequential()\n",
    "model.add(Dense(10, activation='relu', kernel_initializer='he_normal', input_shape=(n_features,)))\n",
    "model.add(Dense(10, activation='relu', kernel_initializer='he_normal'))\n",
    "model.add(Dense(1, activation='sigmoid'))\n",
    "\n",
    "# compile the model\n",
    "model.compile(optimizer='adam', loss='binary_crossentropy', metrics=['accuracy'])\n",
    "\n",
    "# fit the model\n",
    "model.fit(X_train, y_train, epochs=150, batch_size=32, verbose=0)\n",
    "\n",
    "# evaluate the model\n",
    "loss, acc = model.evaluate(X_test, y_test, verbose=1)\n",
    "print('Test Accuracy: %.3f' % acc)\n",
    "\n",
    "# make a prediction\n",
    "#row = [1,0,0.99539,-0.05889,0.85243,0.02306,0.83398,-0.37708,1,0.03760,0.85243,-0.17755,0.59755,-0.44945,0.60536,-0.38223,0.84356,-0.38542,0.58212,-0.32192,0.56971,-0.29674,0.36946,-0.47357,0.56811,-0.51171,0.41078,-0.46168,0.21266,-0.34090,0.42267,-0.54487,0.18641,-0.45300]\n",
    "#yhat = model.predict([row])\n",
    "#print('Predicted: %.3f' % yhat)"
   ]
  },
  {
   "cell_type": "code",
   "execution_count": null,
   "metadata": {},
   "outputs": [],
   "source": []
  }
 ],
 "metadata": {
  "kernelspec": {
   "display_name": "Python 3",
   "language": "python",
   "name": "python3"
  },
  "language_info": {
   "codemirror_mode": {
    "name": "ipython",
    "version": 3
   },
   "file_extension": ".py",
   "mimetype": "text/x-python",
   "name": "python",
   "nbconvert_exporter": "python",
   "pygments_lexer": "ipython3",
   "version": "3.8.2"
  }
 },
 "nbformat": 4,
 "nbformat_minor": 4
}
